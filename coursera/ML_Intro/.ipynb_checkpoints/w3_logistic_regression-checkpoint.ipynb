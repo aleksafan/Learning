{
 "cells": [
  {
   "cell_type": "code",
   "execution_count": 7,
   "metadata": {},
   "outputs": [],
   "source": [
    "import pandas as pd\n",
    "import numpy as np\n",
    "from sklearn.metrics import roc_auc_score\n",
    "from scipy.spatial.distance import euclidean"
   ]
  },
  {
   "cell_type": "code",
   "execution_count": 2,
   "metadata": {},
   "outputs": [],
   "source": [
    "df = pd.read_csv('data/data-logistic.csv', names = ['target','f1','f2'])\n",
    "X_ = df.values[:,1:]\n",
    "y_ = df.values[:,:1].T[0]"
   ]
  },
  {
   "cell_type": "code",
   "execution_count": 3,
   "metadata": {},
   "outputs": [],
   "source": [
    "def weight_update(X, y, k, w1,w2, C, eps, max_iter):\n",
    "    for i in range(max_iter):\n",
    "        w1_new = w1+k*np.mean(y*X[:,0]*(1-1.0/(1+np.exp(-y*(w1*X[:,0]+w2*X[:,1])))))-k*C*w1\n",
    "        w2_new = w2+k*np.mean(y*X[:,1]*(1-1.0/(1+np.exp(-y*(w1*X[:,0]+w2*X[:,1])))))-k*C*w2\n",
    "        if euclidean((w1_new,w2_new),(w1,w2))<eps:\n",
    "            break\n",
    "        w1,w2 = w1_new, w2_new\n",
    "    return w1_new, w2_new\n",
    "        "
   ]
  },
  {
   "cell_type": "code",
   "execution_count": 4,
   "metadata": {},
   "outputs": [],
   "source": [
    "def prediction(X, w1,w2):\n",
    "    predictions = list()\n",
    "    for i in range(len(X)):\n",
    "        sgmd = 1.0/(1 + math.exp(-w1*X[i,0] - w2*X[i,1]))\n",
    "        predictions += [sgmd]\n",
    "    return predictions"
   ]
  },
  {
   "cell_type": "code",
   "execution_count": 5,
   "metadata": {},
   "outputs": [
    {
     "name": "stdout",
     "output_type": "stream",
     "text": [
      "Without regularisation: 0.927\n"
     ]
    }
   ],
   "source": [
    "w1,w2 = weight_update(X_, y_, 0.1, 0.0, 0.0,0.0, 0.00001, 10000)\n",
    "p = prediction(X_, w1, w2)\n",
    "print(\"Without regularisation: \"+str(round(roc_auc_score(y_,p),3)))"
   ]
  },
  {
   "cell_type": "code",
   "execution_count": 6,
   "metadata": {},
   "outputs": [
    {
     "name": "stdout",
     "output_type": "stream",
     "text": [
      "With regularisation: 0.936\n"
     ]
    }
   ],
   "source": [
    "w1,w2 = weight_update(X_, y_, 0.1, 0.0, 0.0,10.0, 0.00001, 10000)\n",
    "p = prediction(X_, w1, w2)\n",
    "print(\"With regularisation: \"+str(round(roc_auc_score(y_,p),3)))"
   ]
  },
  {
   "cell_type": "code",
   "execution_count": null,
   "metadata": {},
   "outputs": [],
   "source": []
  }
 ],
 "metadata": {
  "kernelspec": {
   "display_name": "Python 3",
   "language": "python",
   "name": "python3"
  },
  "language_info": {
   "codemirror_mode": {
    "name": "ipython",
    "version": 3
   },
   "file_extension": ".py",
   "mimetype": "text/x-python",
   "name": "python",
   "nbconvert_exporter": "python",
   "pygments_lexer": "ipython3",
   "version": "3.7.2"
  }
 },
 "nbformat": 4,
 "nbformat_minor": 2
}
