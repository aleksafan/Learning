{
 "cells": [
  {
   "cell_type": "markdown",
   "metadata": {},
   "source": [
    "## Градиентный бустинг над решающими деревьями"
   ]
  },
  {
   "cell_type": "code",
   "execution_count": 1,
   "metadata": {},
   "outputs": [],
   "source": [
    "import pandas as pd\n",
    "import numpy as np\n",
    "from sklearn.model_selection import train_test_split\n",
    "from sklearn.ensemble import GradientBoostingClassifier\n",
    "from math import exp\n",
    "from sklearn.metrics import log_loss\n",
    "import matplotlib.pyplot as plt\n",
    "%matplotlib inline"
   ]
  },
  {
   "cell_type": "markdown",
   "metadata": {},
   "source": [
    "### Инструкция по выполнению\n",
    "1. Загрузите выборку из файла gbm-data.csv с помощью pandas и преобразуйте ее в массив numpy (параметр values у датафрейма). В первой колонке файла с данными записано, была или нет реакция. Все остальные колонки (d1 - d1776) содержат различные характеристики молекулы, такие как размер, форма и т.д. Разбейте выборку на обучающую и тестовую, используя функцию train_test_split с параметрами test_size = 0.8 и random_state = 241."
   ]
  },
  {
   "cell_type": "code",
   "execution_count": 2,
   "metadata": {},
   "outputs": [
    {
     "data": {
      "text/html": [
       "<div>\n",
       "<style scoped>\n",
       "    .dataframe tbody tr th:only-of-type {\n",
       "        vertical-align: middle;\n",
       "    }\n",
       "\n",
       "    .dataframe tbody tr th {\n",
       "        vertical-align: top;\n",
       "    }\n",
       "\n",
       "    .dataframe thead th {\n",
       "        text-align: right;\n",
       "    }\n",
       "</style>\n",
       "<table border=\"1\" class=\"dataframe\">\n",
       "  <thead>\n",
       "    <tr style=\"text-align: right;\">\n",
       "      <th></th>\n",
       "      <th>Activity</th>\n",
       "      <th>D1</th>\n",
       "      <th>D2</th>\n",
       "      <th>D3</th>\n",
       "      <th>D4</th>\n",
       "      <th>D5</th>\n",
       "      <th>D6</th>\n",
       "      <th>D7</th>\n",
       "      <th>D8</th>\n",
       "      <th>D9</th>\n",
       "      <th>...</th>\n",
       "      <th>D1767</th>\n",
       "      <th>D1768</th>\n",
       "      <th>D1769</th>\n",
       "      <th>D1770</th>\n",
       "      <th>D1771</th>\n",
       "      <th>D1772</th>\n",
       "      <th>D1773</th>\n",
       "      <th>D1774</th>\n",
       "      <th>D1775</th>\n",
       "      <th>D1776</th>\n",
       "    </tr>\n",
       "  </thead>\n",
       "  <tbody>\n",
       "    <tr>\n",
       "      <th>0</th>\n",
       "      <td>1</td>\n",
       "      <td>0.000000</td>\n",
       "      <td>0.497009</td>\n",
       "      <td>0.10</td>\n",
       "      <td>0.0</td>\n",
       "      <td>0.132956</td>\n",
       "      <td>0.678031</td>\n",
       "      <td>0.273166</td>\n",
       "      <td>0.585445</td>\n",
       "      <td>0.743663</td>\n",
       "      <td>...</td>\n",
       "      <td>0</td>\n",
       "      <td>0</td>\n",
       "      <td>0</td>\n",
       "      <td>0</td>\n",
       "      <td>0</td>\n",
       "      <td>0</td>\n",
       "      <td>0</td>\n",
       "      <td>0</td>\n",
       "      <td>0</td>\n",
       "      <td>0</td>\n",
       "    </tr>\n",
       "    <tr>\n",
       "      <th>1</th>\n",
       "      <td>1</td>\n",
       "      <td>0.366667</td>\n",
       "      <td>0.606291</td>\n",
       "      <td>0.05</td>\n",
       "      <td>0.0</td>\n",
       "      <td>0.111209</td>\n",
       "      <td>0.803455</td>\n",
       "      <td>0.106105</td>\n",
       "      <td>0.411754</td>\n",
       "      <td>0.836582</td>\n",
       "      <td>...</td>\n",
       "      <td>1</td>\n",
       "      <td>1</td>\n",
       "      <td>1</td>\n",
       "      <td>1</td>\n",
       "      <td>0</td>\n",
       "      <td>1</td>\n",
       "      <td>0</td>\n",
       "      <td>0</td>\n",
       "      <td>1</td>\n",
       "      <td>0</td>\n",
       "    </tr>\n",
       "  </tbody>\n",
       "</table>\n",
       "<p>2 rows × 1777 columns</p>\n",
       "</div>"
      ],
      "text/plain": [
       "   Activity        D1        D2    D3   D4        D5        D6        D7  \\\n",
       "0         1  0.000000  0.497009  0.10  0.0  0.132956  0.678031  0.273166   \n",
       "1         1  0.366667  0.606291  0.05  0.0  0.111209  0.803455  0.106105   \n",
       "\n",
       "         D8        D9  ...    D1767  D1768  D1769  D1770  D1771  D1772  D1773  \\\n",
       "0  0.585445  0.743663  ...        0      0      0      0      0      0      0   \n",
       "1  0.411754  0.836582  ...        1      1      1      1      0      1      0   \n",
       "\n",
       "   D1774  D1775  D1776  \n",
       "0      0      0      0  \n",
       "1      0      1      0  \n",
       "\n",
       "[2 rows x 1777 columns]"
      ]
     },
     "execution_count": 2,
     "metadata": {},
     "output_type": "execute_result"
    }
   ],
   "source": [
    "data = pd.read_csv('data/gbm-data.csv')\n",
    "data.head(2)"
   ]
  },
  {
   "cell_type": "code",
   "execution_count": 3,
   "metadata": {},
   "outputs": [],
   "source": [
    "y = data.loc[:,'Activity'].values\n",
    "X = data.loc[:,'D1':].values"
   ]
  },
  {
   "cell_type": "code",
   "execution_count": 4,
   "metadata": {},
   "outputs": [
    {
     "data": {
      "text/plain": [
       "(750, 3001, 750, 3001)"
      ]
     },
     "execution_count": 4,
     "metadata": {},
     "output_type": "execute_result"
    }
   ],
   "source": [
    "X_train, X_test, y_train, y_test = train_test_split(X,y, test_size = 0.8, random_state = 241)\n",
    "len(X_train),len(X_test),len(y_train), len(y_test)"
   ]
  },
  {
   "cell_type": "markdown",
   "metadata": {},
   "source": [
    "2. Обучите GradientBoostingClassifier с параметрами n_estimators=250, verbose=True, random_state=241 и для каждого значения learning_rate из списка [1, 0.5, 0.3, 0.2, 0.1] проделайте следующее:\n",
    "    * Используйте метод staged_decision_function для предсказания качества на обучающей и тестовой выборке на каждой итерации.\n",
    "    * Преобразуйте полученное предсказание с помощью сигмоидной функции по формуле 1 / (1 + e^{−y_pred}), где y_pred — предсказанное значение.\n",
    "    * Вычислите и постройте график значений log-loss (которую можно посчитать с помощью функции sklearn.metrics.log_loss) на обучающей и тестовой выборках, а также найдите минимальное значение метрики и номер итерации, на которой оно достигается."
   ]
  },
  {
   "cell_type": "code",
   "execution_count": 5,
   "metadata": {},
   "outputs": [],
   "source": [
    "def sgmd(x):    \n",
    "    sgmd = np.array(1.0/(1 + np.exp(-x)))\n",
    "    return sgmd"
   ]
  },
  {
   "cell_type": "code",
   "execution_count": 6,
   "metadata": {},
   "outputs": [],
   "source": [
    "def ls(Set, cls):\n",
    "    ls = pd.DataFrame()\n",
    "    for i, pred in enumerate(cls.staged_decision_function(Set)):\n",
    "        print(pred.shape)\n",
    "        y_pred_sgmd = sgmd(pred)\n",
    "        ls.loc[i,'log_loss'] = log_loss(y_test, y_pred_sgmd)\n",
    "    return ls"
   ]
  },
  {
   "cell_type": "code",
   "execution_count": 7,
   "metadata": {},
   "outputs": [
    {
     "name": "stdout",
     "output_type": "stream",
     "text": [
      "      Iter       Train Loss   Remaining Time \n",
      "         1           1.0190           28.72s\n",
      "         2           0.9192           30.49s\n",
      "         3           0.8272           26.61s\n",
      "         4           0.7834           23.74s\n",
      "         5           0.7109           22.15s\n",
      "         6           0.6368           21.90s\n",
      "         7           0.5797           21.00s\n",
      "         8           0.5610           20.04s\n",
      "         9           0.5185           19.68s\n",
      "        10           0.4984           19.10s\n",
      "        20           0.1999           18.74s\n",
      "        30           0.1313           17.11s\n",
      "        40           0.0790           15.83s\n",
      "        50           0.0511           15.62s\n",
      "        60           0.0352           14.62s\n",
      "        70           0.0245           13.63s\n",
      "        80           0.0162           12.62s\n",
      "        90           0.0114           11.69s\n",
      "       100           0.0077           10.86s\n",
      "       200           0.0004            3.24s\n",
      "      Iter       Train Loss   Remaining Time \n",
      "         1           1.1255           19.50s\n",
      "         2           1.0035           21.02s\n",
      "         3           0.9386           24.36s\n",
      "         4           0.8844           24.33s\n",
      "         5           0.8381           22.68s\n",
      "         6           0.7995           21.49s\n",
      "         7           0.7559           20.72s\n",
      "         8           0.7205           20.08s\n",
      "         9           0.6958           20.58s\n",
      "        10           0.6725           21.15s\n",
      "        20           0.4672           18.02s\n",
      "        30           0.3179           17.89s\n",
      "        40           0.2274           16.79s\n",
      "        50           0.1774           16.08s\n",
      "        60           0.1394           15.13s\n",
      "        70           0.1050           14.22s\n",
      "        80           0.0805           13.39s\n",
      "        90           0.0650           12.52s\n",
      "       100           0.0511           11.86s\n",
      "       200           0.0058            3.68s\n",
      "      Iter       Train Loss   Remaining Time \n",
      "         1           1.2095           19.15s\n",
      "         2           1.1006           20.26s\n",
      "         3           1.0240           20.16s\n",
      "         4           0.9729           20.26s\n",
      "         5           0.9387           19.22s\n",
      "         6           0.8948           19.55s\n",
      "         7           0.8621           19.24s\n",
      "         8           0.8360           18.87s\n",
      "         9           0.8171           18.51s\n",
      "        10           0.7883           18.33s\n",
      "        20           0.6164           16.40s\n",
      "        30           0.4933           15.48s\n",
      "        40           0.4248           14.35s\n",
      "        50           0.3345           13.82s\n",
      "        60           0.2760           13.29s\n",
      "        70           0.2263           12.57s\n",
      "        80           0.1971           11.92s\n",
      "        90           0.1693           11.43s\n",
      "       100           0.1388           10.76s\n",
      "       200           0.0294            3.51s\n",
      "      Iter       Train Loss   Remaining Time \n",
      "         1           1.2613           19.23s\n",
      "         2           1.1715           18.21s\n",
      "         3           1.1009           18.60s\n",
      "         4           1.0529           19.14s\n",
      "         5           1.0130           19.26s\n",
      "         6           0.9740           19.30s\n",
      "         7           0.9475           19.29s\n",
      "         8           0.9197           19.54s\n",
      "         9           0.8979           19.15s\n",
      "        10           0.8730           19.47s\n",
      "        20           0.7207           19.16s\n",
      "        30           0.6055           18.79s\n",
      "        40           0.5244           17.14s\n",
      "        50           0.4501           15.62s\n",
      "        60           0.3908           14.46s\n",
      "        70           0.3372           13.47s\n",
      "        80           0.3009           12.70s\n",
      "        90           0.2603           12.31s\n",
      "       100           0.2327           11.49s\n",
      "       200           0.0835            3.58s\n",
      "      Iter       Train Loss   Remaining Time \n",
      "         1           1.3199           25.36s\n",
      "         2           1.2645           25.58s\n",
      "         3           1.2170           27.21s\n",
      "         4           1.1775           30.59s\n",
      "         5           1.1404           35.54s\n",
      "         6           1.1106           39.91s\n",
      "         7           1.0844           40.88s\n",
      "         8           1.0617           40.25s\n",
      "         9           1.0411           38.83s\n",
      "        10           1.0223           37.84s\n",
      "        20           0.8864           33.88s\n",
      "        30           0.7844           30.98s\n",
      "        40           0.7176           27.52s\n",
      "        50           0.6590           25.08s\n",
      "        60           0.6120           22.55s\n",
      "        70           0.5599           20.34s\n",
      "        80           0.5242           18.28s\n",
      "        90           0.4829           16.46s\n",
      "       100           0.4473           15.12s\n",
      "       200           0.2379            4.42s\n"
     ]
    }
   ],
   "source": [
    "test_deviance = pd.DataFrame()\n",
    "\n",
    "for lr in [1, 0.5, 0.3, 0.2, 0.1]:\n",
    "    cls = GradientBoostingClassifier(n_estimators=250, verbose=True, random_state=241, learning_rate= lr)\n",
    "    boost = cls.fit(X_train, y_train)\n",
    "    for Set,true,name in [X_test, y_test,'test'],[X_train,y_train,'train']:\n",
    "        for i, y_pred in enumerate(boost.staged_decision_function(Set)):\n",
    "            # clf.loss_ assumes that y_test[i] in {0, 1}\n",
    "            y_pred_sgmd = sgmd(y_pred)\n",
    "            ls = log_loss(true, y_pred_sgmd)\n",
    "            column =name+', rate = '+str(lr)\n",
    "            test_deviance.loc[i,column] = ls\n",
    "    \n",
    "\n"
   ]
  },
  {
   "cell_type": "code",
   "execution_count": 8,
   "metadata": {},
   "outputs": [
    {
     "data": {
      "image/png": "[encoded data removed]",
      "text/plain": [
       "<Figure size 432x288 with 1 Axes>"
      ]
     },
     "metadata": {
      "needs_background": "light"
     },
     "output_type": "display_data"
    }
   ],
   "source": [
    "\n",
    "for col in test_deviance.columns:\n",
    "    plt.plot(test_deviance[col], label=str(col))\n",
    "plt.legend(loc='best')\n",
    "plt.xlabel('Boosting Iterations')\n",
    "plt.ylabel('Test Set Deviance')\n",
    "plt.show()"
   ]
  },
  {
   "cell_type": "code",
   "execution_count": 9,
   "metadata": {},
   "outputs": [
    {
     "data": {
      "text/html": [
       "<div>\n",
       "<style scoped>\n",
       "    .dataframe tbody tr th:only-of-type {\n",
       "        vertical-align: middle;\n",
       "    }\n",
       "\n",
       "    .dataframe tbody tr th {\n",
       "        vertical-align: top;\n",
       "    }\n",
       "\n",
       "    .dataframe thead th {\n",
       "        text-align: right;\n",
       "    }\n",
       "</style>\n",
       "<table border=\"1\" class=\"dataframe\">\n",
       "  <thead>\n",
       "    <tr style=\"text-align: right;\">\n",
       "      <th></th>\n",
       "      <th>test, rate = 1</th>\n",
       "      <th>train, rate = 1</th>\n",
       "      <th>test, rate = 0.5</th>\n",
       "      <th>train, rate = 0.5</th>\n",
       "      <th>test, rate = 0.3</th>\n",
       "      <th>train, rate = 0.3</th>\n",
       "      <th>test, rate = 0.2</th>\n",
       "      <th>train, rate = 0.2</th>\n",
       "      <th>test, rate = 0.1</th>\n",
       "      <th>train, rate = 0.1</th>\n",
       "    </tr>\n",
       "  </thead>\n",
       "  <tbody>\n",
       "    <tr>\n",
       "      <th>0</th>\n",
       "      <td>0.582294</td>\n",
       "      <td>0.509476</td>\n",
       "      <td>0.598784</td>\n",
       "      <td>0.562745</td>\n",
       "      <td>0.625706</td>\n",
       "      <td>0.604730</td>\n",
       "      <td>0.644018</td>\n",
       "      <td>0.630654</td>\n",
       "      <td>0.665666</td>\n",
       "      <td>0.659969</td>\n",
       "    </tr>\n",
       "    <tr>\n",
       "      <th>1</th>\n",
       "      <td>0.586915</td>\n",
       "      <td>0.459585</td>\n",
       "      <td>0.570690</td>\n",
       "      <td>0.501740</td>\n",
       "      <td>0.589778</td>\n",
       "      <td>0.550289</td>\n",
       "      <td>0.611680</td>\n",
       "      <td>0.585738</td>\n",
       "      <td>0.644785</td>\n",
       "      <td>0.632227</td>\n",
       "    </tr>\n",
       "    <tr>\n",
       "      <th>2</th>\n",
       "      <td>0.610679</td>\n",
       "      <td>0.413581</td>\n",
       "      <td>0.564559</td>\n",
       "      <td>0.469276</td>\n",
       "      <td>0.571306</td>\n",
       "      <td>0.512002</td>\n",
       "      <td>0.590484</td>\n",
       "      <td>0.550472</td>\n",
       "      <td>0.627848</td>\n",
       "      <td>0.608495</td>\n",
       "    </tr>\n",
       "    <tr>\n",
       "      <th>3</th>\n",
       "      <td>0.634867</td>\n",
       "      <td>0.391683</td>\n",
       "      <td>0.560408</td>\n",
       "      <td>0.442182</td>\n",
       "      <td>0.564595</td>\n",
       "      <td>0.486430</td>\n",
       "      <td>0.576736</td>\n",
       "      <td>0.526436</td>\n",
       "      <td>0.613776</td>\n",
       "      <td>0.588772</td>\n",
       "    </tr>\n",
       "    <tr>\n",
       "      <th>4</th>\n",
       "      <td>0.668921</td>\n",
       "      <td>0.355433</td>\n",
       "      <td>0.558458</td>\n",
       "      <td>0.419036</td>\n",
       "      <td>0.557654</td>\n",
       "      <td>0.469356</td>\n",
       "      <td>0.563464</td>\n",
       "      <td>0.506518</td>\n",
       "      <td>0.601769</td>\n",
       "      <td>0.570222</td>\n",
       "    </tr>\n",
       "  </tbody>\n",
       "</table>\n",
       "</div>"
      ],
      "text/plain": [
       "   test, rate = 1  train, rate = 1  test, rate = 0.5  train, rate = 0.5  \\\n",
       "0        0.582294         0.509476          0.598784           0.562745   \n",
       "1        0.586915         0.459585          0.570690           0.501740   \n",
       "2        0.610679         0.413581          0.564559           0.469276   \n",
       "3        0.634867         0.391683          0.560408           0.442182   \n",
       "4        0.668921         0.355433          0.558458           0.419036   \n",
       "\n",
       "   test, rate = 0.3  train, rate = 0.3  test, rate = 0.2  train, rate = 0.2  \\\n",
       "0          0.625706           0.604730          0.644018           0.630654   \n",
       "1          0.589778           0.550289          0.611680           0.585738   \n",
       "2          0.571306           0.512002          0.590484           0.550472   \n",
       "3          0.564595           0.486430          0.576736           0.526436   \n",
       "4          0.557654           0.469356          0.563464           0.506518   \n",
       "\n",
       "   test, rate = 0.1  train, rate = 0.1  \n",
       "0          0.665666           0.659969  \n",
       "1          0.644785           0.632227  \n",
       "2          0.627848           0.608495  \n",
       "3          0.613776           0.588772  \n",
       "4          0.601769           0.570222  "
      ]
     },
     "execution_count": 9,
     "metadata": {},
     "output_type": "execute_result"
    }
   ],
   "source": [
    "test_deviance.head()"
   ]
  },
  {
   "cell_type": "code",
   "execution_count": 10,
   "metadata": {},
   "outputs": [],
   "source": [
    "colname = test_deviance.min().sort_values().head(1).index[0]\n",
    "minimum = test_deviance.min().min()"
   ]
  },
  {
   "cell_type": "code",
   "execution_count": 11,
   "metadata": {},
   "outputs": [
    {
     "name": "stdout",
     "output_type": "stream",
     "text": [
      "0.00020857611394801452 180\n"
     ]
    }
   ],
   "source": [
    "print(minimum, test_deviance[test_deviance[colname]<=minimum][colname].sort_values().index.min())"
   ]
  },
  {
   "cell_type": "markdown",
   "metadata": {},
   "source": [
    "3. Как можно охарактеризовать график качества на тестовой выборке, начиная с некоторой итерации: переобучение (overfitting) или недообучение (underfitting)? В ответе укажите одно из слов overfitting либо underfitting.\n",
    "#### overfittng"
   ]
  },
  {
   "cell_type": "markdown",
   "metadata": {},
   "source": [
    "4. Приведите минимальное значение log-loss на тестовой выборке и номер итерации, на котором оно достигается, при learning_rate = 0.2.\n"
   ]
  },
  {
   "cell_type": "code",
   "execution_count": 12,
   "metadata": {},
   "outputs": [
    {
     "name": "stdout",
     "output_type": "stream",
     "text": [
      "0.53 36\n"
     ]
    }
   ],
   "source": [
    "r2 = 'test, rate = 0.2'\n",
    "print(round(test_deviance[r2].min(),2), \n",
    "      test_deviance[test_deviance[r2]<=test_deviance[r2].min()][r2].sort_values().index.min())"
   ]
  },
  {
   "cell_type": "markdown",
   "metadata": {},
   "source": [
    "5. На этих же данных обучите RandomForestClassifier с количеством деревьев, равным количеству итераций, на котором достигается наилучшее качество у градиентного бустинга из предыдущего пункта, c random_state=241 и остальными параметрами по умолчанию. Какое значение log-loss на тесте получается у этого случайного леса? (Не забывайте, что предсказания нужно получать с помощью функции predict_proba. В данном случае брать сигмоиду от оценки вероятности класса не нужно)"
   ]
  },
  {
   "cell_type": "code",
   "execution_count": 13,
   "metadata": {},
   "outputs": [
    {
     "name": "stdout",
     "output_type": "stream",
     "text": [
      "      Iter       Train Loss   Remaining Time \n",
      "         1           1.2613            2.92s\n",
      "         2           1.1715            3.10s\n",
      "         3           1.1009            3.21s\n",
      "         4           1.0529            3.00s\n",
      "         5           1.0130            2.92s\n",
      "         6           0.9740            2.84s\n",
      "         7           0.9475            2.69s\n",
      "         8           0.9197            2.54s\n",
      "         9           0.8979            2.38s\n",
      "        10           0.8730            2.33s\n",
      "        20           0.7207            1.29s\n",
      "        30           0.6055            0.46s\n"
     ]
    }
   ],
   "source": [
    "new_cls = GradientBoostingClassifier(n_estimators=36, verbose=True, random_state=241, learning_rate= 0.2)\n",
    "new_boost = new_cls.fit(X_train, y_train)"
   ]
  },
  {
   "cell_type": "code",
   "execution_count": 14,
   "metadata": {},
   "outputs": [
    {
     "name": "stdout",
     "output_type": "stream",
     "text": [
      "0.53\n"
     ]
    }
   ],
   "source": [
    "new_pred = new_boost.predict_proba(X_test)\n",
    "new_ls = round(log_loss(y_test, new_pred),2)\n",
    "print(new_ls)"
   ]
  }
 ],
 "metadata": {
  "kernelspec": {
   "display_name": "Python 3",
   "language": "python",
   "name": "python3"
  },
  "language_info": {
   "codemirror_mode": {
    "name": "ipython",
    "version": 3
   },
   "file_extension": ".py",
   "mimetype": "text/x-python",
   "name": "python",
   "nbconvert_exporter": "python",
   "pygments_lexer": "ipython3",
   "version": "3.7.2"
  }
 },
 "nbformat": 4,
 "nbformat_minor": 2
}
